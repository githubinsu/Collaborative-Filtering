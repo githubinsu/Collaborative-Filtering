{
 "cells": [
  {
   "cell_type": "code",
   "execution_count": 1,
   "id": "4564ff08",
   "metadata": {},
   "outputs": [],
   "source": [
    "import pandas as pd\n",
    "from surprise import Dataset, Reader, SVD\n",
    "from surprise.model_selection import cross_validate"
   ]
  },
  {
   "cell_type": "code",
   "execution_count": 2,
   "id": "6e86d0a9",
   "metadata": {},
   "outputs": [],
   "source": [
    "df = pd.read_excel('train_data_2023.xlsx')"
   ]
  },
  {
   "cell_type": "code",
   "execution_count": 3,
   "id": "8c374b0c",
   "metadata": {},
   "outputs": [],
   "source": [
    "# 이상치 제거\n",
    "pivot = df.pivot_table(index = 'Customer_ID', values = 'Order_Date', aggfunc = 'count' )"
   ]
  },
  {
   "cell_type": "code",
   "execution_count": 4,
   "id": "48a516fb",
   "metadata": {
    "scrolled": false
   },
   "outputs": [
    {
     "data": {
      "text/plain": [
       "Int64Index([100018, 100021, 100042, 100051, 100068, 100080, 100097, 100137,\n",
       "            100144, 100155,\n",
       "            ...\n",
       "            999899, 999905, 999910, 999924, 999925, 999935, 999952, 999987,\n",
       "            999994, 999998],\n",
       "           dtype='int64', name='Customer_ID', length=104098)"
      ]
     },
     "execution_count": 4,
     "metadata": {},
     "output_type": "execute_result"
    }
   ],
   "source": [
    "pivot[pivot['Order_Date'] < 10].index"
   ]
  },
  {
   "cell_type": "code",
   "execution_count": 5,
   "id": "c4b447e8",
   "metadata": {},
   "outputs": [],
   "source": [
    "df0 = df[df['Customer_ID'].isin(pivot[pivot['Order_Date'] < 10].index)]"
   ]
  },
  {
   "cell_type": "code",
   "execution_count": 8,
   "id": "64a60b12",
   "metadata": {},
   "outputs": [
    {
     "name": "stderr",
     "output_type": "stream",
     "text": [
      "C:\\Users\\J13868\\AppData\\Local\\Temp\\ipykernel_15868\\4157519954.py:2: SettingWithCopyWarning: \n",
      "A value is trying to be set on a copy of a slice from a DataFrame.\n",
      "Try using .loc[row_indexer,col_indexer] = value instead\n",
      "\n",
      "See the caveats in the documentation: https://pandas.pydata.org/pandas-docs/stable/user_guide/indexing.html#returning-a-view-versus-a-copy\n",
      "  df0['rating'] = df0.groupby(['Customer_ID', 'Product_No'])['Order_Date'].transform('count')\n"
     ]
    }
   ],
   "source": [
    "df0['rating'] = df0.groupby(['Customer_ID', 'Product_No'])['Order_Date'].transform('count')\n",
    "df0 = df0.drop_duplicates(subset=['Customer_ID', 'Product_No'])"
   ]
  },
  {
   "cell_type": "code",
   "execution_count": 9,
   "id": "33c428a9",
   "metadata": {},
   "outputs": [],
   "source": [
    "reader = Reader(rating_scale=(df0['rating'].min(), df0['rating'].max()))\n",
    "data = Dataset.load_from_df(df0[['Customer_ID', 'Product_No', 'rating']], reader)"
   ]
  },
  {
   "cell_type": "code",
   "execution_count": 10,
   "id": "5f4f55b6",
   "metadata": {},
   "outputs": [],
   "source": [
    "algo = SVD()"
   ]
  },
  {
   "cell_type": "code",
   "execution_count": 11,
   "id": "f0bbcfa5",
   "metadata": {},
   "outputs": [
    {
     "name": "stdout",
     "output_type": "stream",
     "text": [
      "Evaluating RMSE, MAE of algorithm SVD on 5 split(s).\n",
      "\n",
      "                  Fold 1  Fold 2  Fold 3  Fold 4  Fold 5  Mean    Std     \n",
      "RMSE (testset)    0.4911  0.4868  0.4930  0.5021  0.5128  0.4972  0.0093  \n",
      "MAE (testset)     0.2949  0.2936  0.2943  0.2978  0.2990  0.2959  0.0021  \n",
      "Fit time          1.82    1.87    1.96    1.91    1.86    1.88    0.05    \n",
      "Test time         0.19    0.19    0.35    0.26    0.27    0.25    0.06    \n"
     ]
    },
    {
     "data": {
      "text/plain": [
       "{'test_rmse': array([0.49106741, 0.48679781, 0.49303738, 0.50211304, 0.51278667]),\n",
       " 'test_mae': array([0.29489472, 0.29360985, 0.29433701, 0.29775518, 0.29904802]),\n",
       " 'fit_time': (1.819817304611206,\n",
       "  1.8682701587677002,\n",
       "  1.955850601196289,\n",
       "  1.9113245010375977,\n",
       "  1.864725112915039),\n",
       " 'test_time': (0.19312167167663574,\n",
       "  0.1865217685699463,\n",
       "  0.3456716537475586,\n",
       "  0.26001858711242676,\n",
       "  0.2707836627960205)}"
      ]
     },
     "execution_count": 11,
     "metadata": {},
     "output_type": "execute_result"
    }
   ],
   "source": [
    "# 교차 검증\n",
    "cross_validate(algo, data, measures=['RMSE', 'MAE'], cv=5, verbose=True)"
   ]
  },
  {
   "cell_type": "code",
   "execution_count": 12,
   "id": "8f6b7260",
   "metadata": {},
   "outputs": [
    {
     "data": {
      "text/plain": [
       "<surprise.prediction_algorithms.matrix_factorization.SVD at 0x214a2f5fa60>"
      ]
     },
     "execution_count": 12,
     "metadata": {},
     "output_type": "execute_result"
    }
   ],
   "source": [
    "# 전체 데이터 학습\n",
    "trainset = data.build_full_trainset()\n",
    "algo.fit(trainset)"
   ]
  },
  {
   "cell_type": "code",
   "execution_count": 13,
   "id": "48c65bb3",
   "metadata": {},
   "outputs": [],
   "source": [
    "# 고객별 제품 추천\n",
    "recommendations = []\n",
    "for customer_id in df0['Customer_ID'].unique():\n",
    "    customer_ratings = df0[df0['Customer_ID'] == customer_id]\n",
    "    recommended_products = []\n",
    "    for product in df0['Product_No'].unique():\n",
    "        if product not in customer_ratings['Product_No']:\n",
    "            prediction = algo.predict(customer_id, product)\n",
    "            recommended_products.append((product, prediction[3]))\n",
    "    recommended_products.sort(key=lambda x: x[1], reverse=True)\n",
    "    recommendations.append({'Customer_ID': customer_id, 'Recommended_Products': [product for product, _ in recommended_products[:1]]})\n",
    "recommendations_df = pd.DataFrame(recommendations)"
   ]
  },
  {
   "cell_type": "code",
   "execution_count": 14,
   "id": "e37b4747",
   "metadata": {},
   "outputs": [
    {
     "name": "stdout",
     "output_type": "stream",
     "text": [
      "        Customer_ID Recommended_Products\n",
      "0            881247              [10712]\n",
      "1            319285              [10715]\n",
      "2            956846              [10715]\n",
      "3            260350              [10712]\n",
      "4            938614              [10712]\n",
      "...             ...                  ...\n",
      "104093       954101              [10712]\n",
      "104094       365038              [10712]\n",
      "104095       939046              [10715]\n",
      "104096       227381              [10715]\n",
      "104097       352930              [10715]\n",
      "\n",
      "[104098 rows x 2 columns]\n"
     ]
    }
   ],
   "source": [
    "print(recommendations_df)"
   ]
  }
 ],
 "metadata": {
  "kernelspec": {
   "display_name": "Python 3 (ipykernel)",
   "language": "python",
   "name": "python3"
  },
  "language_info": {
   "codemirror_mode": {
    "name": "ipython",
    "version": 3
   },
   "file_extension": ".py",
   "mimetype": "text/x-python",
   "name": "python",
   "nbconvert_exporter": "python",
   "pygments_lexer": "ipython3",
   "version": "3.10.9"
  }
 },
 "nbformat": 4,
 "nbformat_minor": 5
}
